{
 "cells": [
  {
   "cell_type": "markdown",
   "id": "64ff6b59-fc6d-4f91-bd31-26ceb429d295",
   "metadata": {},
   "source": [
    "# Exercise: Pull Data From YahooFinance API\n",
    "\n",
    "You can't build trading models without financial data! A common source for data are APIs, which are a programmatic way to pull a lot of data from data brokers and vendors that make it available online. \n",
    "\n",
    "While many APIs will require an API key or token to identify you, you can use the [YahooFinance API](https://pypi.org/project/yfinance/) without a key for pulling simple and small amounts of historical data. \n",
    "\n",
    "Your task here is to: \n",
    "* If necessary, download the YahooFinance API Python wrapper package (called `yfinance`)\n",
    "* Use the `yfinance` package to download historical data for the last 3 years for at least 2 different stock tickers\n",
    "* Choose your favorite stocks to explore!"
   ]
  },
  {
   "cell_type": "code",
   "execution_count": 1,
   "id": "07dfee7a-9774-413d-ba76-dcef337a2efd",
   "metadata": {},
   "outputs": [],
   "source": [
    "# ! pip install yfinance #uncomment this line and run it only once to download the library"
   ]
  },
  {
   "cell_type": "code",
   "execution_count": 2,
   "id": "e6a2381e-d8b9-49e0-b781-278c2075a1d3",
   "metadata": {},
   "outputs": [],
   "source": [
    "import pandas as pd\n",
    "import yfinance as yf # you may need to install the package first before doing the import "
   ]
  },
  {
   "cell_type": "code",
   "execution_count": 3,
   "id": "6014aebc-4423-4db5-8e60-8d6479ed452a",
   "metadata": {},
   "outputs": [],
   "source": [
    "# Define some variables you'll use for pulling in data\n",
    "\n",
    "stock_ticker_1 = 'AAPL'\n",
    "stock_ticker_2 = 'MSFT'\n",
    "\n",
    "start_date = '2015-01-01' # use format YYYY-MM-DD\n",
    "end_date = '2025-06-27'"
   ]
  },
  {
   "cell_type": "markdown",
   "id": "d8114802-27ba-4369-8455-565e0fc5c869",
   "metadata": {},
   "source": [
    "To use the YahooFinance API, you may find it useful to look at the documentation. Below, we've started the code for you using the method called download(). \n",
    "\n",
    "To figure out what to pass in to that method, take a look at [this page of the YF API documentation](https://github.com/ranaroussi/yfinance?tab=readme-ov-file#multiple-tickers)."
   ]
  },
  {
   "cell_type": "code",
   "execution_count": 4,
   "id": "bf50a54f-97c0-4cf3-aa09-2add734fe790",
   "metadata": {},
   "outputs": [
    {
     "name": "stdout",
     "output_type": "stream",
     "text": [
      "YF.download() has changed argument auto_adjust default to True\n"
     ]
    },
    {
     "name": "stderr",
     "output_type": "stream",
     "text": [
      "[*********************100%***********************]  1 of 1 completed\n"
     ]
    }
   ],
   "source": [
    "data_stock_1 = yf.download([stock_ticker_1], start=start_date, end=end_date) # replace ... inside this function with the correct parameters in order to get your data"
   ]
  },
  {
   "cell_type": "code",
   "execution_count": 5,
   "id": "20cb6e97-2f43-468c-bb41-53ce79e4e033",
   "metadata": {},
   "outputs": [
    {
     "name": "stderr",
     "output_type": "stream",
     "text": [
      "[*********************100%***********************]  1 of 1 completed\n"
     ]
    }
   ],
   "source": [
    "data_stock_2 = yf.download([stock_ticker_2], start=start_date, end=end_date) # replace ... inside this function with the correct parameters in order to get your data"
   ]
  },
  {
   "cell_type": "code",
   "execution_count": 6,
   "id": "822375f7-9f80-4836-b7e8-6692b974d4bc",
   "metadata": {},
   "outputs": [
    {
     "data": {
      "text/html": [
       "<div>\n",
       "<style scoped>\n",
       "    .dataframe tbody tr th:only-of-type {\n",
       "        vertical-align: middle;\n",
       "    }\n",
       "\n",
       "    .dataframe tbody tr th {\n",
       "        vertical-align: top;\n",
       "    }\n",
       "\n",
       "    .dataframe thead tr th {\n",
       "        text-align: left;\n",
       "    }\n",
       "\n",
       "    .dataframe thead tr:last-of-type th {\n",
       "        text-align: right;\n",
       "    }\n",
       "</style>\n",
       "<table border=\"1\" class=\"dataframe\">\n",
       "  <thead>\n",
       "    <tr>\n",
       "      <th>Price</th>\n",
       "      <th>Close</th>\n",
       "      <th>High</th>\n",
       "      <th>Low</th>\n",
       "      <th>Open</th>\n",
       "      <th>Volume</th>\n",
       "    </tr>\n",
       "    <tr>\n",
       "      <th>Ticker</th>\n",
       "      <th>AAPL</th>\n",
       "      <th>AAPL</th>\n",
       "      <th>AAPL</th>\n",
       "      <th>AAPL</th>\n",
       "      <th>AAPL</th>\n",
       "    </tr>\n",
       "    <tr>\n",
       "      <th>Date</th>\n",
       "      <th></th>\n",
       "      <th></th>\n",
       "      <th></th>\n",
       "      <th></th>\n",
       "      <th></th>\n",
       "    </tr>\n",
       "  </thead>\n",
       "  <tbody>\n",
       "    <tr>\n",
       "      <th>2015-01-02</th>\n",
       "      <td>24.288584</td>\n",
       "      <td>24.757338</td>\n",
       "      <td>23.848709</td>\n",
       "      <td>24.746230</td>\n",
       "      <td>212818400</td>\n",
       "    </tr>\n",
       "    <tr>\n",
       "      <th>2015-01-05</th>\n",
       "      <td>23.604330</td>\n",
       "      <td>24.137511</td>\n",
       "      <td>23.417718</td>\n",
       "      <td>24.057533</td>\n",
       "      <td>257142000</td>\n",
       "    </tr>\n",
       "    <tr>\n",
       "      <th>2015-01-06</th>\n",
       "      <td>23.606554</td>\n",
       "      <td>23.866479</td>\n",
       "      <td>23.244435</td>\n",
       "      <td>23.668758</td>\n",
       "      <td>263188400</td>\n",
       "    </tr>\n",
       "    <tr>\n",
       "      <th>2015-01-07</th>\n",
       "      <td>23.937574</td>\n",
       "      <td>24.037545</td>\n",
       "      <td>23.704307</td>\n",
       "      <td>23.815387</td>\n",
       "      <td>160423600</td>\n",
       "    </tr>\n",
       "    <tr>\n",
       "      <th>2015-01-08</th>\n",
       "      <td>24.857309</td>\n",
       "      <td>24.915071</td>\n",
       "      <td>24.148623</td>\n",
       "      <td>24.266369</td>\n",
       "      <td>237458000</td>\n",
       "    </tr>\n",
       "  </tbody>\n",
       "</table>\n",
       "</div>"
      ],
      "text/plain": [
       "Price           Close       High        Low       Open     Volume\n",
       "Ticker           AAPL       AAPL       AAPL       AAPL       AAPL\n",
       "Date                                                             \n",
       "2015-01-02  24.288584  24.757338  23.848709  24.746230  212818400\n",
       "2015-01-05  23.604330  24.137511  23.417718  24.057533  257142000\n",
       "2015-01-06  23.606554  23.866479  23.244435  23.668758  263188400\n",
       "2015-01-07  23.937574  24.037545  23.704307  23.815387  160423600\n",
       "2015-01-08  24.857309  24.915071  24.148623  24.266369  237458000"
      ]
     },
     "execution_count": 6,
     "metadata": {},
     "output_type": "execute_result"
    }
   ],
   "source": [
    "data_stock_1.head() # check if your download worked"
   ]
  },
  {
   "cell_type": "code",
   "execution_count": 7,
   "id": "26f65543-5d16-4c85-9417-1609ca70b969",
   "metadata": {},
   "outputs": [
    {
     "data": {
      "text/html": [
       "<div>\n",
       "<style scoped>\n",
       "    .dataframe tbody tr th:only-of-type {\n",
       "        vertical-align: middle;\n",
       "    }\n",
       "\n",
       "    .dataframe tbody tr th {\n",
       "        vertical-align: top;\n",
       "    }\n",
       "\n",
       "    .dataframe thead tr th {\n",
       "        text-align: left;\n",
       "    }\n",
       "\n",
       "    .dataframe thead tr:last-of-type th {\n",
       "        text-align: right;\n",
       "    }\n",
       "</style>\n",
       "<table border=\"1\" class=\"dataframe\">\n",
       "  <thead>\n",
       "    <tr>\n",
       "      <th>Price</th>\n",
       "      <th>Close</th>\n",
       "      <th>High</th>\n",
       "      <th>Low</th>\n",
       "      <th>Open</th>\n",
       "      <th>Volume</th>\n",
       "    </tr>\n",
       "    <tr>\n",
       "      <th>Ticker</th>\n",
       "      <th>MSFT</th>\n",
       "      <th>MSFT</th>\n",
       "      <th>MSFT</th>\n",
       "      <th>MSFT</th>\n",
       "      <th>MSFT</th>\n",
       "    </tr>\n",
       "    <tr>\n",
       "      <th>Date</th>\n",
       "      <th></th>\n",
       "      <th></th>\n",
       "      <th></th>\n",
       "      <th></th>\n",
       "      <th></th>\n",
       "    </tr>\n",
       "  </thead>\n",
       "  <tbody>\n",
       "    <tr>\n",
       "      <th>2015-01-02</th>\n",
       "      <td>39.998688</td>\n",
       "      <td>40.563254</td>\n",
       "      <td>39.810501</td>\n",
       "      <td>39.913149</td>\n",
       "      <td>27913900</td>\n",
       "    </tr>\n",
       "    <tr>\n",
       "      <th>2015-01-05</th>\n",
       "      <td>39.630875</td>\n",
       "      <td>39.973034</td>\n",
       "      <td>39.562441</td>\n",
       "      <td>39.665088</td>\n",
       "      <td>39673900</td>\n",
       "    </tr>\n",
       "    <tr>\n",
       "      <th>2015-01-06</th>\n",
       "      <td>39.049202</td>\n",
       "      <td>39.990145</td>\n",
       "      <td>38.955107</td>\n",
       "      <td>39.673647</td>\n",
       "      <td>36447900</td>\n",
       "    </tr>\n",
       "    <tr>\n",
       "      <th>2015-01-07</th>\n",
       "      <td>39.545341</td>\n",
       "      <td>39.742084</td>\n",
       "      <td>38.912344</td>\n",
       "      <td>39.331490</td>\n",
       "      <td>29114100</td>\n",
       "    </tr>\n",
       "    <tr>\n",
       "      <th>2015-01-08</th>\n",
       "      <td>40.708683</td>\n",
       "      <td>40.845548</td>\n",
       "      <td>39.964482</td>\n",
       "      <td>39.990143</td>\n",
       "      <td>29645200</td>\n",
       "    </tr>\n",
       "  </tbody>\n",
       "</table>\n",
       "</div>"
      ],
      "text/plain": [
       "Price           Close       High        Low       Open    Volume\n",
       "Ticker           MSFT       MSFT       MSFT       MSFT      MSFT\n",
       "Date                                                            \n",
       "2015-01-02  39.998688  40.563254  39.810501  39.913149  27913900\n",
       "2015-01-05  39.630875  39.973034  39.562441  39.665088  39673900\n",
       "2015-01-06  39.049202  39.990145  38.955107  39.673647  36447900\n",
       "2015-01-07  39.545341  39.742084  38.912344  39.331490  29114100\n",
       "2015-01-08  40.708683  40.845548  39.964482  39.990143  29645200"
      ]
     },
     "execution_count": 7,
     "metadata": {},
     "output_type": "execute_result"
    }
   ],
   "source": [
    "data_stock_2.head() # check if your download worked "
   ]
  },
  {
   "cell_type": "code",
   "execution_count": null,
   "id": "135cfeac",
   "metadata": {},
   "outputs": [],
   "source": []
  }
 ],
 "metadata": {
  "kernelspec": {
   "display_name": "Python 3 (ipykernel)",
   "language": "python",
   "name": "python3"
  },
  "language_info": {
   "codemirror_mode": {
    "name": "ipython",
    "version": 3
   },
   "file_extension": ".py",
   "mimetype": "text/x-python",
   "name": "python",
   "nbconvert_exporter": "python",
   "pygments_lexer": "ipython3",
   "version": "3.10.13"
  }
 },
 "nbformat": 4,
 "nbformat_minor": 5
}
